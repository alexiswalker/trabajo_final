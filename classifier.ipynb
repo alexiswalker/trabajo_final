{
 "cells": [
  {
   "cell_type": "code",
   "execution_count": 2,
   "metadata": {
    "collapsed": false
   },
   "outputs": [],
   "source": [
    "import os\n",
    "from collections import Counter\n",
    "X = []\n",
    "y = []\n",
    "\n",
    "for file in os.listdir('codes/'):\n",
    "    with open(os.path.join('codes', file)) as f:\n",
    "        code = f.read()\n",
    "    _, language = os.path.splitext(file)\n",
    "    X.append(code)\n",
    "    y.append(language[1:])\n",
    "\n",
    "# Counter(y).most_common()"
   ]
  },
  {
   "cell_type": "code",
   "execution_count": 44,
   "metadata": {
    "collapsed": false
   },
   "outputs": [
    {
     "name": "stdout",
     "output_type": "stream",
     "text": [
      "{'hola': 3, '99': 1, 'algo,malo': 2, 'mundo': 4, '!': 0}\n"
     ]
    },
    {
     "data": {
      "text/plain": [
       "matrix([[ 0.,  0.,  0.,  1.,  0.]])"
      ]
     },
     "execution_count": 44,
     "metadata": {},
     "output_type": "execute_result"
    }
   ],
   "source": [
    "from sklearn.feature_extraction.text import TfidfVectorizer\n",
    "\n",
    "def mi_tokenizador(code):\n",
    "    palabras = code.split()\n",
    "    return palabras\n",
    "\n",
    "c = TfidfVectorizer(tokenizer=mi_tokenizador)\n",
    "# c.fit(X[:1])\n",
    "c.fit([\"hola mundo 99 algo,malo !\"])\n",
    "print(c.vocabulary_)\n",
    "r=c.transform(['hola hola malo'])\n",
    "r.todense()"
   ]
  },
  {
   "cell_type": "code",
   "execution_count": 37,
   "metadata": {
    "collapsed": false
   },
   "outputs": [
    {
     "data": {
      "text/plain": [
       "matrix([[0, 0, 0, 0, 0],\n",
       "        [0, 0, 0, 0, 0],\n",
       "        [0, 0, 0, 0, 0],\n",
       "        [0, 0, 0, 0, 0]])"
      ]
     },
     "execution_count": 37,
     "metadata": {},
     "output_type": "execute_result"
    }
   ],
   "source": [
    "r.todense()\n"
   ]
  }
 ],
 "metadata": {
  "kernelspec": {
   "display_name": "Python 2",
   "language": "python",
   "name": "python2"
  },
  "language_info": {
   "codemirror_mode": {
    "name": "ipython",
    "version": 2
   },
   "file_extension": ".py",
   "mimetype": "text/x-python",
   "name": "python",
   "nbconvert_exporter": "python",
   "pygments_lexer": "ipython2",
   "version": "2.7.9"
  }
 },
 "nbformat": 4,
 "nbformat_minor": 0
}

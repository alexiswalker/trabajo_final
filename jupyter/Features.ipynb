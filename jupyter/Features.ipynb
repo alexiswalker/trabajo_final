{
 "cells": [
  {
   "cell_type": "markdown",
   "metadata": {},
   "source": [
    "# Manejo de archivo"
   ]
  },
  {
   "cell_type": "code",
   "execution_count": null,
   "metadata": {
    "collapsed": false
   },
   "outputs": [],
   "source": [
    "path = '/home/mica/trabajo_final/codes/'\n",
    "files_list = []\n",
    "dir_list = os.walk(path)\n",
    "\n",
    "for root, dirs, files in dir_list:\n",
    "    for thing in files:\n",
    "        (name, extension) = os.path.splitext(thing)\n",
    "        files_list.append(name + extension)\n",
    "\n",
    "content = []\n",
    "languaje = []\n",
    "\n",
    "for files in files_list:\n",
    "    code = open('/home/mica/trabajo_final/codes/' + files, \"r\")\n",
    "    languaje.append(files.split(\".\")[-1])\n",
    "    content.append(code.read())"
   ]
  },
  {
   "cell_type": "markdown",
   "metadata": {},
   "source": [
    "En este fragmento de código podemos observar que en el primer **for** localizamos los archivos sobre los cuales vamos a trabajar, detectamos la ruta de dichos archivos **root**, la direccion **dirs** y los archivos en si mismo **files** para luego dividir el archivo en **nombre** por un lado y **extensión** por otro lado. Cabe destacar que la extensión, en este caso, hace referencia al lenguaje al que corresponde el archivo. \n",
    "En el segundo **for** tomamos los archivos y los separamos en dos: el contenido de los mismos sera guardado en la lista **content** y la extensión en la lista **languaje**. Realizamos esta división para luego poder manipular el contenido de los archivos sin ningun problema y poder identificar a que lenguaje corresponde mediante las posiciones dadas en la lista.  "
   ]
  },
  {
   "cell_type": "markdown",
   "metadata": {},
   "source": [
    "# Tokenizer"
   ]
  },
  {
   "cell_type": "code",
   "execution_count": null,
   "metadata": {
    "collapsed": true
   },
   "outputs": [],
   "source": []
  },
  {
   "cell_type": "markdown",
   "metadata": {},
   "source": [
    "Como vemos aqui, tenemos una lista de caracteres y palaras que seran parte de nuestros **features**, luego de conformar dicha lista, procedemos a quitar todo aquello que se encuentre dentro de los archivos y no sea parte de la lista **character**"
   ]
  }
 ],
 "metadata": {
  "kernelspec": {
   "display_name": "Python 2",
   "language": "python",
   "name": "python2"
  },
  "language_info": {
   "codemirror_mode": {
    "name": "ipython",
    "version": 2
   },
   "file_extension": ".py",
   "mimetype": "text/x-python",
   "name": "python",
   "nbconvert_exporter": "python",
   "pygments_lexer": "ipython2",
   "version": "2.7.9"
  }
 },
 "nbformat": 4,
 "nbformat_minor": 0
}

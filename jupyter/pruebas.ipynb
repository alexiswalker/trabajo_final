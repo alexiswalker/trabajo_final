{
 "cells": [
  {
   "cell_type": "code",
   "execution_count": 16,
   "metadata": {
    "collapsed": true
   },
   "outputs": [],
   "source": [
    "import os\n",
    "from sklearn.feature_extraction.text import CountVectorizer, TfidfVectorizer\n",
    "from sklearn.svm import LinearSVC\n",
    "from sklearn.pipeline import make_pipeline\n",
    "from sklearn.cross_validation import train_test_split\n",
    "from sklearn.metrics import accuracy_score\n",
    "from sklearn.linear_model import SGDClassifier\n",
    "from sklearn.decomposition import TruncatedSVD\n",
    "import re\n",
    "\n",
    "def load_data():\n",
    "    \"returns a (X, y) readed from codes folder\"\n",
    "    X = []\n",
    "    y = []\n",
    "    for f in os.listdir('codes'):\n",
    "        text = open(os.path.join('codes', f)).read()\n",
    "        syntax = f.split('.')[-1]\n",
    "        X.append(text)\n",
    "        y.append(syntax.lower())\n",
    "    return (X, y)\n",
    "\n",
    "X, y = load_data()"
   ]
  },
  {
   "cell_type": "code",
   "execution_count": 3,
   "metadata": {
    "collapsed": false
   },
   "outputs": [],
   "source": [
    "def preprocessor(x):\n",
    "    x = re.sub('\\d+', 'NUMBER', x)\n",
    "    x = re.sub('\\\".*?\\\"', 'STRING', x)\n",
    "    x = re.sub('\\#.*?', 'COMENT', x)\n",
    "    return x\n"
   ]
  },
  {
   "cell_type": "code",
   "execution_count": 12,
   "metadata": {
    "collapsed": false
   },
   "outputs": [
    {
     "ename": "SyntaxError",
     "evalue": "unexpected character after line continuation character (<ipython-input-12-dbb06bca07a9>, line 2)",
     "output_type": "error",
     "traceback": [
      "\u001b[1;36m  File \u001b[1;32m\"<ipython-input-12-dbb06bca07a9>\"\u001b[1;36m, line \u001b[1;32m2\u001b[0m\n\u001b[1;33m    re.sub(''\\\"\"\".*?\\\"\"\"', 'COMMENT', 'esto es \"\"\"un comentario de muchas lineas\"\"\"')\u001b[0m\n\u001b[1;37m                                                                                     ^\u001b[0m\n\u001b[1;31mSyntaxError\u001b[0m\u001b[1;31m:\u001b[0m unexpected character after line continuation character\n"
     ]
    }
   ],
   "source": [
    "import re\n",
    "re.sub(''\\\"\"\".*?\\\"\"\"', 'COMMENT', 'esto es \"\"un comentario de muchas lineas\" ')"
   ]
  },
  {
   "cell_type": "code",
   "execution_count": 9,
   "metadata": {
    "collapsed": false
   },
   "outputs": [
    {
     "ename": "NameError",
     "evalue": "name 'make_pipeline' is not defined",
     "output_type": "error",
     "traceback": [
      "\u001b[1;31m---------------------------------------------------------------------------\u001b[0m",
      "\u001b[1;31mNameError\u001b[0m                                 Traceback (most recent call last)",
      "\u001b[1;32m<ipython-input-9-703e5e04b88f>\u001b[0m in \u001b[0;36m<module>\u001b[1;34m()\u001b[0m\n\u001b[1;32m----> 1\u001b[1;33m pipe = make_pipeline(\n\u001b[0m\u001b[0;32m      2\u001b[0m     TfidfVectorizer(\n\u001b[0;32m      3\u001b[0m         \u001b[0mngram_range\u001b[0m\u001b[1;33m=\u001b[0m\u001b[1;33m(\u001b[0m\u001b[1;36m1\u001b[0m\u001b[1;33m,\u001b[0m \u001b[1;36m2\u001b[0m\u001b[1;33m)\u001b[0m\u001b[1;33m,\u001b[0m\u001b[1;33m\u001b[0m\u001b[0m\n\u001b[0;32m      4\u001b[0m         \u001b[0mtoken_pattern\u001b[0m\u001b[1;33m=\u001b[0m\u001b[1;34m'(?u)\\\\b\\\\w\\\\w+\\\\b|\\:|\\;|\\\"|\\'|#|\\t'\u001b[0m\u001b[1;33m,\u001b[0m\u001b[1;33m\u001b[0m\u001b[0m\n\u001b[0;32m      5\u001b[0m         \u001b[0mpreprocessor\u001b[0m\u001b[1;33m=\u001b[0m\u001b[0mpreprocessor\u001b[0m\u001b[1;33m\u001b[0m\u001b[0m\n",
      "\u001b[1;31mNameError\u001b[0m: name 'make_pipeline' is not defined"
     ]
    }
   ],
   "source": [
    "pipe = make_pipeline(\n",
    "    TfidfVectorizer(\n",
    "        ngram_range=(1, 2),\n",
    "        token_pattern='(?u)\\\\b\\\\w\\\\w+\\\\b|\\:|\\;|\\\"|\\'|#|\\t',\n",
    "        preprocessor=preprocessor\n",
    "    ),\n",
    "    LinearSVC()\n",
    ")\n",
    "\n",
    "X_train, X_val, y_train, y_val = train_test_split(X, y, test_size=0.2)\n",
    "pipe.fit(X_train, y_train)\n",
    "\n",
    "p = pipe.predict(X_val)\n",
    "\n",
    "print(accuracy_score(p, y_val))"
   ]
  },
  {
   "cell_type": "markdown",
   "metadata": {},
   "source": [
    "### Para probar/mejorar:\n",
    "\n",
    "* Probar agregar cosas en preprocessor (comentarios, otras formas de strings, numeros...)\n",
    "* Probar de agregar más simbolos en el tokenizer\n",
    "* Probar con distintos ngrams\n",
    "* Ver parametros **max_df=1.0, min_df=1, max_features=None**\n",
    "\n",
    "### Para ver:\n",
    "* Donde predice mal?\n",
    "* Los ejemplos que predice mal, son entendibles por una persona?\n",
    "* Hacer alguna grafica de la matriz de confusión (Por ej, por cada lenguaje cantidad de veces que predice bien)\n",
    "\n"
   ]
  },
  {
   "cell_type": "code",
   "execution_count": 55,
   "metadata": {
    "collapsed": false
   },
   "outputs": [
    {
     "name": "stdout",
     "output_type": "stream",
     "text": [
      "[('\\t', 0), ('!', 1), (':', 2), ('Bien', 3), ('Hola', 4), ('NUMBER', 5), ('como', 6), ('va', 7), ('vos', 8)]\n"
     ]
    },
    {
     "data": {
      "text/plain": [
       "array([[ 0.        ,  0.        ,  0.        ,  0.        ,  0.44610081,\n",
       "         0.6348088 ,  0.44610081,  0.44610081,  0.        ],\n",
       "       [ 0.34287126,  0.34287126,  0.68574252,  0.34287126,  0.        ,\n",
       "         0.24395573,  0.        ,  0.        ,  0.34287126]])"
      ]
     },
     "execution_count": 55,
     "metadata": {},
     "output_type": "execute_result"
    }
   ],
   "source": [
    "# c =  CountVectorizer(ngram_range=(1, 1))\n",
    "c =  TfidfVectorizer(ngram_range=(1, 1), \n",
    "                     token_pattern='(?u)\\\\b\\\\w\\\\w+\\\\b|\\:|\\;|\\\"|\\'|#|!|\\t',\n",
    "                     preprocessor=preprocessor\n",
    "                    )\n",
    "corpus = ['Hola 667 10 como va', 'Bien, \\t 9987 : :y vos?!']\n",
    "c.fit(corpus)\n",
    "c.vocabulary_ \n",
    "r = c.transform(corpus)\n",
    "print(sorted(c.vocabulary_.items(), key=lambda x: x[1]))\n",
    "r.toarray()"
   ]
  }
 ],
 "metadata": {
  "kernelspec": {
   "display_name": "Python 2",
   "language": "python",
   "name": "python2"
  },
  "language_info": {
   "codemirror_mode": {
    "name": "ipython",
    "version": 2
   },
   "file_extension": ".py",
   "mimetype": "text/x-python",
   "name": "python",
   "nbconvert_exporter": "python",
   "pygments_lexer": "ipython2",
   "version": "2.7.9"
  }
 },
 "nbformat": 4,
 "nbformat_minor": 0
}

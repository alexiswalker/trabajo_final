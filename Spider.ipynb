{
 "cells": [
  {
   "cell_type": "markdown",
   "metadata": {},
   "source": [
    "# Links de inicio"
   ]
  },
  {
   "cell_type": "code",
   "execution_count": 1,
   "metadata": {
    "collapsed": true
   },
   "outputs": [],
   "source": [
    "    name = 'TrabajoFinal'\n",
    "    allowed_domains = ['pastebin.com']\n",
    "\n",
    "    start_urls = [\n",
    "        \"http://pastebin.com/archive/c/\",\n",
    "        \"http://pastebin.com/archive/cpp/\",\n",
    "        \"http://pastebin.com/archive/csharp/\",\n",
    "        \"http://pastebin.com/archive/clojure/\",\n",
    "        \"http://pastebin.com/archive/coffeescript/\",\n",
    "        \"http://pastebin.com/archive/css/\",\n",
    "        \"http://pastebin.com/archive/diff/\",\n",
    "        \"http://pastebin.com/archive/erlang/\",\n",
    "        \"http://pastebin.com/archive/haskell/\",\n",
    "        \"http://pastebin.com/archive/java/\",\n",
    "        \"http://pastebin.com/archive/javascript/\",\n",
    "        \"http://pastebin.com/archive/json/\",\n",
    "        \"http://pastebin.com/archive/lua/\",\n",
    "        \"http://pastebin.com/archive/php/\",\n",
    "        \"http://pastebin.com/archive/perl/\",\n",
    "        \"http://pastebin.com/archive/python/\",\n",
    "        \"http://pastebin.com/archive/ruby/\",\n",
    "        \"http://pastebin.com/archive/rust/\",\n",
    "        \"http://pastebin.com/archive/scala/\",\n",
    "        \"http://pastebin.com/archive/smalltalk/\",\n",
    "        \"http://pastebin.com/archive/sql/\",\n",
    "        \"http://pastebin.com/archive/vbscript/\",\n",
    "        \"http://pastebin.com/archive/xml/\",\n",
    "    ]\n"
   ]
  },
  {
   "cell_type": "markdown",
   "metadata": {},
   "source": [
    "Como vemos aqui, **allowed_domains** define el dominio sobre el cual se realizara el rastreo de codigos y **start_urls** posee la lista de links desde los cuales la spider comienza a rastrear, se muestra un link por cada lenguaje de programación que querramos rastrear. "
   ]
  },
  {
   "cell_type": "markdown",
   "metadata": {},
   "source": [
    "# Extracción de código"
   ]
  },
  {
   "cell_type": "code",
   "execution_count": 2,
   "metadata": {
    "collapsed": true
   },
   "outputs": [],
   "source": [
    "    def parse_code(self, response):\n",
    "        syntax = response.xpath(\n",
    "            '//*[@id=\"content_left\"]/div[1]/div[3]/div[2]/a[contains(@href, \"archive\")]/text()'\n",
    "        ).extract()[0]\n",
    "\n",
    "        l = response.css('#paste_code::text').extract()\n",
    "        assert len(l) == 1\n",
    "        code = l[0]\n",
    "        filename = 'codes/' + response.url.split(\"/\")[-1] + '.' + syntax\n",
    "        with open(filename, 'wb') as f:\n",
    "            f.write(code.encode('UTF-8'))"
   ]
  },
  {
   "cell_type": "markdown",
   "metadata": {},
   "source": [
    "En esta parte la spider localiza el archivo dentro del html, lo extrae y lo guarda dentro de un archivo al cual se le asigna el mismo nombre que posee dentro de la base de pastebin y se le agrega en forma de extensión el lenguaje al que pertenece."
   ]
  }
 ],
 "metadata": {
  "celltoolbar": "Raw Cell Format",
  "kernelspec": {
   "display_name": "Python 2",
   "language": "python",
   "name": "python2"
  },
  "language_info": {
   "codemirror_mode": {
    "name": "ipython",
    "version": 2
   },
   "file_extension": ".py",
   "mimetype": "text/x-python",
   "name": "python",
   "nbconvert_exporter": "python",
   "pygments_lexer": "ipython2",
   "version": "2.7.9"
  }
 },
 "nbformat": 4,
 "nbformat_minor": 0
}

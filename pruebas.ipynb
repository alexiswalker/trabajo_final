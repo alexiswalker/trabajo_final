{
 "cells": [
  {
   "cell_type": "code",
   "execution_count": 16,
   "metadata": {
    "collapsed": true
   },
   "outputs": [],
   "source": [
    "import os\n",
    "from sklearn.feature_extraction.text import CountVectorizer, TfidfVectorizer\n",
    "from sklearn.svm import LinearSVC\n",
    "from sklearn.pipeline import make_pipeline\n",
    "from sklearn.cross_validation import train_test_split\n",
    "from sklearn.metrics import accuracy_score\n",
    "from sklearn.linear_model import SGDClassifier\n",
    "from sklearn.decomposition import TruncatedSVD\n",
    "import re\n",
    "\n",
    "def load_data():\n",
    "    \"returns a (X, y) readed from codes folder\"\n",
    "    X = []\n",
    "    y = []\n",
    "    for f in os.listdir('codes'):\n",
    "        text = open(os.path.join('codes', f)).read()\n",
    "        syntax = f.split('.')[-1]\n",
    "        X.append(text)\n",
    "        y.append(syntax.lower())\n",
    "    return (X, y)\n",
    "\n",
    "X, y = load_data()"
   ]
  },
  {
   "cell_type": "code",
   "execution_count": 45,
   "metadata": {
    "collapsed": false
   },
   "outputs": [],
   "source": [
    "def preprocessor(x):\n",
    "    x = re.sub('\\d+', 'NUMBER', x)\n",
    "    x = re.sub('\\\".*?\\\"', 'STRING', x)\n",
    "    return x\n"
   ]
  },
  {
   "cell_type": "code",
   "execution_count": 44,
   "metadata": {
    "collapsed": false
   },
   "outputs": [
    {
     "data": {
      "text/plain": [
       "'algo STRING ooo '"
      ]
     },
     "execution_count": 44,
     "metadata": {},
     "output_type": "execute_result"
    }
   ],
   "source": [
    "re.sub('\\\".*?\\\"', 'STRING', 'algo \"tiene que pasar\" ooo ')"
   ]
  },
  {
   "cell_type": "code",
   "execution_count": 56,
   "metadata": {
    "collapsed": false
   },
   "outputs": [
    {
     "name": "stdout",
     "output_type": "stream",
     "text": [
      "0.815730337079\n"
     ]
    }
   ],
   "source": [
    "pipe = make_pipeline(\n",
    "    TfidfVectorizer(\n",
    "        ngram_range=(1, 2),\n",
    "        token_pattern='(?u)\\\\b\\\\w\\\\w+\\\\b|\\:|\\;|\\\"|\\'|#|\\t',\n",
    "        preprocessor=preprocessor\n",
    "    ),\n",
    "    LinearSVC()\n",
    ")\n",
    "\n",
    "X_train, X_val, y_train, y_val = train_test_split(X, y, test_size=0.2)\n",
    "pipe.fit(X_train, y_train)\n",
    "\n",
    "p = pipe.predict(X_val)\n",
    "\n",
    "print(accuracy_score(p, y_val))"
   ]
  },
  {
   "cell_type": "markdown",
   "metadata": {},
   "source": [
    "### Para probar/mejorar:\n",
    "\n",
    "* Probar agregar cosas en preprocessor (comentarios, otras formas de strings, numeros...)\n",
    "* Probar de agregar más simbolos en el tokenizer\n",
    "* Probar con distintos ngrams\n",
    "* Ver parametros **max_df=1.0, min_df=1, max_features=None**\n",
    "\n",
    "### Para ver:\n",
    "* Donde predice mal?\n",
    "* Los ejemplos que predice mal, son entendibles por una persona?\n",
    "* Hacer alguna grafica de la matriz de confusión (Por ej, por cada lenguaje cantidad de veces que predice bien)\n",
    "\n"
   ]
  },
  {
   "cell_type": "code",
   "execution_count": 55,
   "metadata": {
    "collapsed": false
   },
   "outputs": [
    {
     "name": "stdout",
     "output_type": "stream",
     "text": [
      "[('\\t', 0), ('!', 1), (':', 2), ('Bien', 3), ('Hola', 4), ('NUMBER', 5), ('como', 6), ('va', 7), ('vos', 8)]\n"
     ]
    },
    {
     "data": {
      "text/plain": [
       "array([[ 0.        ,  0.        ,  0.        ,  0.        ,  0.44610081,\n",
       "         0.6348088 ,  0.44610081,  0.44610081,  0.        ],\n",
       "       [ 0.34287126,  0.34287126,  0.68574252,  0.34287126,  0.        ,\n",
       "         0.24395573,  0.        ,  0.        ,  0.34287126]])"
      ]
     },
     "execution_count": 55,
     "metadata": {},
     "output_type": "execute_result"
    }
   ],
   "source": [
    "# c =  CountVectorizer(ngram_range=(1, 1))\n",
    "c =  TfidfVectorizer(ngram_range=(1, 1), \n",
    "                     token_pattern='(?u)\\\\b\\\\w\\\\w+\\\\b|\\:|\\;|\\\"|\\'|#|!|\\t',\n",
    "                     preprocessor=preprocessor\n",
    "                    )\n",
    "corpus = ['Hola 667 10 como va', 'Bien, \\t 9987 : :y vos?!']\n",
    "c.fit(corpus)\n",
    "c.vocabulary_ \n",
    "r = c.transform(corpus)\n",
    "print(sorted(c.vocabulary_.items(), key=lambda x: x[1]))\n",
    "r.toarray()"
   ]
  }
 ],
 "metadata": {
  "kernelspec": {
   "display_name": "Python 3",
   "language": "python",
   "name": "python3"
  },
  "language_info": {
   "codemirror_mode": {
    "name": "ipython",
    "version": 3
   },
   "file_extension": ".py",
   "mimetype": "text/x-python",
   "name": "python",
   "nbconvert_exporter": "python",
   "pygments_lexer": "ipython3",
   "version": "3.5.1+"
  }
 },
 "nbformat": 4,
 "nbformat_minor": 0
}
